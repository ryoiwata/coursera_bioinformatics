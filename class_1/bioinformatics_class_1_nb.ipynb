{
 "cells": [
  {
   "cell_type": "code",
   "execution_count": 1,
   "metadata": {},
   "outputs": [],
   "source": [
    "from src.bioinfo_class_1_functions import *"
   ]
  },
  {
   "cell_type": "markdown",
   "metadata": {},
   "source": [
    "Coursera Bioinformatics Course"
   ]
  },
  {
   "cell_type": "code",
   "execution_count": 2,
   "metadata": {},
   "outputs": [
    {
     "data": {
      "text/plain": [
       "36"
      ]
     },
     "execution_count": 2,
     "metadata": {},
     "output_type": "execute_result"
    }
   ],
   "source": [
    "hamming_distance(\"CTACAGCAATACGATCATATGCGGATCCGCAGTGGCCGGTAGACACACGT\", \"CTACCCCGCTGCTCAATGACCGGGACTAAAGAGGCGAAGATTATGGTGTG\")"
   ]
  },
  {
   "cell_type": "code",
   "execution_count": 3,
   "metadata": {
    "scrolled": true
   },
   "outputs": [
    {
     "data": {
      "text/plain": [
       "[0,\n",
       " 1,\n",
       " 1,\n",
       " 1,\n",
       " 1,\n",
       " 0,\n",
       " 0,\n",
       " -1,\n",
       " -1,\n",
       " -1,\n",
       " -2,\n",
       " -3,\n",
       " -4,\n",
       " -3,\n",
       " -3,\n",
       " -2,\n",
       " -2,\n",
       " -2,\n",
       " -1,\n",
       " 0,\n",
       " 0,\n",
       " 0,\n",
       " -1,\n",
       " -1,\n",
       " 0]"
      ]
     },
     "execution_count": 3,
     "metadata": {},
     "output_type": "execute_result"
    }
   ],
   "source": [
    "skew_G_minus_C(\"GATACACTTCCCGAGTAGGTACTG\")"
   ]
  },
  {
   "cell_type": "code",
   "execution_count": 4,
   "metadata": {},
   "outputs": [
    {
     "data": {
      "text/plain": [
       "13"
      ]
     },
     "execution_count": 4,
     "metadata": {},
     "output_type": "execute_result"
    }
   ],
   "source": [
    "approximate_pattern_count(\"AA\", \"TACGCATTACAAAGCACA\", 1)"
   ]
  },
  {
   "cell_type": "code",
   "execution_count": 5,
   "metadata": {},
   "outputs": [
    {
     "data": {
      "text/plain": [
       "106"
      ]
     },
     "execution_count": 5,
     "metadata": {},
     "output_type": "execute_result"
    }
   ],
   "source": [
    "len(neighbors(\"TGCAT\", 2))"
   ]
  },
  {
   "cell_type": "code",
   "execution_count": 6,
   "metadata": {},
   "outputs": [],
   "source": [
    "def reverse_compliment(text):\n",
    "    \"\"\"\n",
    "    returns the reverse_compliment of a given sequence\n",
    "    \"\"\"\n",
    "    compliment_dict = {\"A\": \"T\", \"C\": \"G\", \"G\": \"C\", \"T\": \"A\"}\n",
    "    result = \"\"\n",
    "    for nucleotide in text[::-1]:\n",
    "        result += compliment_dict[nucleotide]\n",
    "    return result"
   ]
  },
  {
   "cell_type": "markdown",
   "metadata": {},
   "source": [
    "Class 1 Week 2 Where in the Genome Does Replication Begin?"
   ]
  },
  {
   "cell_type": "code",
   "execution_count": 7,
   "metadata": {},
   "outputs": [
    {
     "data": {
      "text/plain": [
       "2"
      ]
     },
     "execution_count": 7,
     "metadata": {},
     "output_type": "execute_result"
    }
   ],
   "source": [
    "pattern_count(\"ABCABC\", \"ABC\")"
   ]
  },
  {
   "cell_type": "markdown",
   "metadata": {},
   "source": [
    "1.3 Peculiar Statistics of the Forward and Reverse Half-Strands"
   ]
  },
  {
   "cell_type": "markdown",
   "metadata": {},
   "source": [
    "Skew-i(Genome) is defined as the difference between the total number of occurrences of G and the total number of occurrences of C in the first i nucleotides of Genome."
   ]
  },
  {
   "cell_type": "markdown",
   "metadata": {},
   "source": [
    "Skew Problem: Compute the skew(defined above) at each nucleotide position of a given sequence"
   ]
  },
  {
   "cell_type": "markdown",
   "metadata": {},
   "source": [
    "Sample Input:\n",
    "     CATGGGCATCGGCCATACGCC\n",
    "\n",
    "Sample Output:\n",
    "     0 -1 -1 -1 0 1 2 1 1 1 0 1 2 1 0 0 0 0 -1 0 -1 -2"
   ]
  },
  {
   "cell_type": "code",
   "execution_count": 8,
   "metadata": {},
   "outputs": [
    {
     "data": {
      "text/plain": [
       "[0, -1, -1, -1, 0, 1, 2, 1, 1, 1, 0, 1, 2, 1, 0, 0, 0, 0, -1, 0, -1, -2]"
      ]
     },
     "execution_count": 8,
     "metadata": {},
     "output_type": "execute_result"
    }
   ],
   "source": [
    "skew_G_minus_C(\"CATGGGCATCGGCCATACGCC\")"
   ]
  },
  {
   "cell_type": "markdown",
   "metadata": {},
   "source": [
    "Minimum Skew Problem: Find a position in a genome where the skew diagram attains a minimum.\n",
    "\n",
    "Input: A DNA string Genome.\n",
    "Output: All integer(s) i minimizing Skewi (Genome) among all values of i (from 0 to |Genome|)."
   ]
  },
  {
   "cell_type": "markdown",
   "metadata": {},
   "source": [
    "Sample Input:\n",
    "\n",
    "TAAAGACTGCCGAGAGGCCAACACGAGTGCTAGAACGAGGGGCGTAAACGCGGGTCCGAT\n",
    "Sample Output:\n",
    "\n",
    "11 24"
   ]
  },
  {
   "cell_type": "code",
   "execution_count": 9,
   "metadata": {
    "scrolled": true
   },
   "outputs": [
    {
     "data": {
      "text/plain": [
       "[11, 24]"
      ]
     },
     "execution_count": 9,
     "metadata": {},
     "output_type": "execute_result"
    }
   ],
   "source": [
    "sample_skew = skew_G_minus_C(\"TAAAGACTGCCGAGAGGCCAACACGAGTGCTAGAACGAGGGGCGTAAACGCGGGTCCGAT\")\n",
    "skew_minimum(sample_skew)"
   ]
  },
  {
   "cell_type": "markdown",
   "metadata": {},
   "source": [
    "1.4 Some Hidden Messages are More Elusive than Others"
   ]
  },
  {
   "cell_type": "markdown",
   "metadata": {},
   "source": [
    "Hamming Distance Problem: Compute the Hamming distance between two strings.\n",
    "\n",
    "- Input: Two strings of equal length.\n",
    "\n",
    "- Output: The Hamming distance between these strings."
   ]
  },
  {
   "cell_type": "markdown",
   "metadata": {},
   "source": [
    "Sample Input:\n",
    "\n",
    "GGGCCGTTGGT\n",
    "GGACCGTTGAC\n",
    "\n",
    "Sample Output:\n",
    "\n",
    "3"
   ]
  },
  {
   "cell_type": "code",
   "execution_count": 10,
   "metadata": {
    "scrolled": true
   },
   "outputs": [
    {
     "data": {
      "text/plain": [
       "3"
      ]
     },
     "execution_count": 10,
     "metadata": {},
     "output_type": "execute_result"
    }
   ],
   "source": [
    "str1 = \"GGGCCGTTGGT\"\n",
    "str2 = \"GGACCGTTGAC\"\n",
    "hamming_distance(str1, str2)"
   ]
  },
  {
   "cell_type": "markdown",
   "metadata": {},
   "source": [
    "Approximate Pattern Matching Problem: Find all approximate occurrences of a pattern in a string.\n",
    "- Input: Strings Pattern and Text along with an integer d.\n",
    "- Output: All starting positions where Pattern appears as a substring of Text with at most d mismatches.\n",
    "\n",
    "Sample Input:\n",
    "\n",
    "ATTCTGGA\n",
    "CGCCCGAATCCAGAACGCATTCCCATATTTCGGGACCACTGGCCTCCACGGTACGGACGTCAATCAAAT\n",
    "3\n",
    "Sample Output:\n",
    "\n",
    "6 7 26 27"
   ]
  },
  {
   "cell_type": "code",
   "execution_count": 11,
   "metadata": {
    "scrolled": true
   },
   "outputs": [
    {
     "data": {
      "text/plain": [
       "[6, 7, 26, 27]"
      ]
     },
     "execution_count": 11,
     "metadata": {},
     "output_type": "execute_result"
    }
   ],
   "source": [
    "appoximate_pattern_matching(\"ATTCTGGA\", \"CGCCCGAATCCAGAACGCATTCCCATATTTCGGGACCACTGGCCTCCACGGTACGGACGTCAATCAAAT\", 3)"
   ]
  },
  {
   "cell_type": "markdown",
   "metadata": {},
   "source": [
    "ApproximatePatternCount.\n",
    "- Input: Strings Text and Pattern as well as an integer d.\n",
    "- Output: Countd(Text, Pattern).\n",
    "\n",
    "Sample Input:\n",
    "\n",
    "GAGG\n",
    "TTTAGAGCCTTCAGAGG\n",
    "2\n",
    "\n",
    "Sample Output:\n",
    "4"
   ]
  },
  {
   "cell_type": "code",
   "execution_count": 12,
   "metadata": {},
   "outputs": [
    {
     "data": {
      "text/plain": [
       "4"
      ]
     },
     "execution_count": 12,
     "metadata": {},
     "output_type": "execute_result"
    }
   ],
   "source": [
    "approximate_pattern_count(\"GAGG\", \"TTTAGAGCCTTCAGAGG\", 2)"
   ]
  },
  {
   "cell_type": "markdown",
   "metadata": {},
   "source": [
    "Frequent Words with Mismatches Problem: Find the most frequent k-mers with mismatches in a string.\n",
    "\n",
    "- Input: A string Text as well as integers k and d. (You may assume k ≤ 12 and d ≤ 3.)\n",
    "\n",
    "- Output: All most frequent k-mers with up to d mismatches in Text."
   ]
  },
  {
   "cell_type": "markdown",
   "metadata": {},
   "source": [
    "Sample Input:\n",
    "    ACGTTGCATGTCGCATGATGCATGAGAGCT\n",
    "   4 1\n",
    "\n",
    "Sample Output:\n",
    "    GATG ATGC ATGT"
   ]
  },
  {
   "cell_type": "code",
   "execution_count": 13,
   "metadata": {},
   "outputs": [],
   "source": [
    "def frequent_words_with_mismatches(text, k, distance):\n",
    "    neighbor_dict = {}\n",
    "    for i in range(len(text) - k + 1):\n",
    "        k_mer = text[i:i+k]\n",
    "        k_mer_neighbors = neighbors(k_mer, distance)\n",
    "        for neighbor in k_mer_neighbors:\n",
    "            if neighbor in neighbor_dict:\n",
    "                neighbor_dict[neighbor] += 1\n",
    "            else:\n",
    "                neighbor_dict[neighbor] = 1\n",
    "    result = []\n",
    "    for n in neighbor_dict:\n",
    "        if len(result) == 0:\n",
    "            result.append(n)\n",
    "            continue\n",
    "        if neighbor_dict[n] > neighbor_dict[result[0]]:\n",
    "            result = [n]\n",
    "        elif neighbor_dict[n] == neighbor_dict[result[0]]:\n",
    "            result.append(n)       \n",
    "            \n",
    "    return result\n"
   ]
  },
  {
   "cell_type": "code",
   "execution_count": 14,
   "metadata": {
    "scrolled": true
   },
   "outputs": [
    {
     "data": {
      "text/plain": [
       "['ATGT', 'GATG', 'ATGC']"
      ]
     },
     "execution_count": 14,
     "metadata": {},
     "output_type": "execute_result"
    }
   ],
   "source": [
    "frequent_words_with_mismatches(\"ACGTTGCATGTCGCATGATGCATGAGAGCT\", 4, 1)"
   ]
  },
  {
   "cell_type": "markdown",
   "metadata": {},
   "source": [
    "Frequent Words with Mismatches and Reverse Complements Problem: Find the most frequent k-mers (with mismatches and reverse complements) in a string.\n",
    "\n",
    "- Input: A DNA string Text as well as integers k and d.\n",
    "- Output: All k-mers Pattern maximizing the sum Countd(Text, Pattern)+ Countd(Text, Patternrc) over all possible k-mers."
   ]
  },
  {
   "cell_type": "markdown",
   "metadata": {},
   "source": [
    "Sample Input:\n",
    "ACGTTGCATGTCGCATGATGCATGAGAGCT 4 1\n",
    "\n",
    "Sample Output:\n",
    "ATGT ACAT"
   ]
  },
  {
   "cell_type": "code",
   "execution_count": 15,
   "metadata": {},
   "outputs": [],
   "source": [
    "def frequent_words_with_mismatches_reverse_compliments(text, k, distance):\n",
    "    neighbor_dict = {}\n",
    "    for i in range(len(text) - k + 1):\n",
    "        k_mer = text[i:i+k]\n",
    "        k_mer_neighbors = neighbors(k_mer, distance)\n",
    "        for neighbor in k_mer_neighbors:\n",
    "            if neighbor in neighbor_dict:\n",
    "                neighbor_dict[neighbor] += 1\n",
    "            else:\n",
    "                neighbor_dict[neighbor] = 1\n",
    "    \n",
    "    rc = reverse_compliment(text)\n",
    "    \n",
    "    for i in range(len(rc) - k + 1):\n",
    "        k_mer = rc[i:i+k]\n",
    "        k_mer_neighbors = neighbors(k_mer, distance)\n",
    "        for neighbor in k_mer_neighbors:\n",
    "            if neighbor in neighbor_dict:\n",
    "                neighbor_dict[neighbor] += 1\n",
    "            else:\n",
    "                neighbor_dict[neighbor] = 1\n",
    "\n",
    "    result = []\n",
    "    for n in neighbor_dict:\n",
    "        if len(result) == 0:\n",
    "            result.append(n)\n",
    "            continue\n",
    "        if neighbor_dict[n] > neighbor_dict[result[0]]:\n",
    "            result = [n]\n",
    "        elif neighbor_dict[n] == neighbor_dict[result[0]]:\n",
    "            result.append(n)       \n",
    "    return result\n"
   ]
  },
  {
   "cell_type": "code",
   "execution_count": 16,
   "metadata": {},
   "outputs": [
    {
     "data": {
      "text/plain": [
       "['ACAT', 'ATGT']"
      ]
     },
     "execution_count": 16,
     "metadata": {},
     "output_type": "execute_result"
    }
   ],
   "source": [
    "frequent_words_with_mismatches_reverse_compliments(\"ACGTTGCATGTCGCATGATGCATGAGAGCT\", 4, 1)"
   ]
  },
  {
   "cell_type": "markdown",
   "metadata": {},
   "source": [
    "1.7 CS: Solving the Frequent Words with Mismatches Problem\n"
   ]
  },
  {
   "cell_type": "code",
   "execution_count": null,
   "metadata": {},
   "outputs": [],
   "source": []
  },
  {
   "cell_type": "markdown",
   "metadata": {},
   "source": [
    "1.8 CS: Generating the Neighborhood of a String"
   ]
  },
  {
   "cell_type": "markdown",
   "metadata": {},
   "source": [
    "    Neighbors(Pattern, d)\n",
    "            if d = 0\n",
    "                return {Pattern}\n",
    "            if |Pattern| = 1 \n",
    "                return {A, C, G, T}\n",
    "            Neighborhood ← an empty set\n",
    "            SuffixNeighbors ← Neighbors(Suffix(Pattern), d)\n",
    "            for each string Text from SuffixNeighbors\n",
    "                if HammingDistance(Suffix(Pattern), Text) < d\n",
    "                    for each nucleotide x\n",
    "                        add x • Text to Neighborhood\n",
    "                else\n",
    "                    add FirstSymbol(Pattern) • Text to Neighborhood\n",
    "            return Neighborhood"
   ]
  },
  {
   "cell_type": "code",
   "execution_count": 17,
   "metadata": {},
   "outputs": [],
   "source": [
    "def neighbors(pattern, distance):\n",
    "    if distance == 0:\n",
    "        return set(pattern)\n",
    "    if len(pattern) == 1:\n",
    "        return set([\"A\", \"C\", \"G\", \"T\"])\n",
    "    neighborhood = set()\n",
    "    suffix_neighbors = neighbors(pattern[1:], distance)\n",
    "    for neighbor in suffix_neighbors:\n",
    "        if hamming_distance(pattern[1:], neighbor) < distance:\n",
    "            for nucleotide in [\"A\", \"C\", \"G\", \"T\"]:\n",
    "                neighborhood.add(nucleotide + neighbor)\n",
    "        else:\n",
    "            neighborhood.add(pattern[0] + neighbor)\n",
    "    return neighborhood"
   ]
  },
  {
   "cell_type": "markdown",
   "metadata": {},
   "source": [
    "Neighbors: find the d-neighborhood of a string.\n",
    "\n",
    "- Input: A string Pattern and an integer d.\n",
    "- Output: The collection of strings Neighbors(Pattern, d). (You may return the strings in any order, but each line should contain only one string.)\n",
    "\n",
    "\n"
   ]
  },
  {
   "cell_type": "markdown",
   "metadata": {},
   "source": [
    "Sample Input:\n",
    "\n",
    "ACG\n",
    "1\n",
    "Sample Output:\n",
    "\n",
    "CCG TCG GCG AAG ATG AGG ACA ACC ACT ACG"
   ]
  },
  {
   "cell_type": "code",
   "execution_count": 18,
   "metadata": {},
   "outputs": [
    {
     "data": {
      "text/plain": [
       "{'AAG', 'ACA', 'ACC', 'ACG', 'ACT', 'AGG', 'ATG', 'CCG', 'GCG', 'TCG'}"
      ]
     },
     "execution_count": 18,
     "metadata": {},
     "output_type": "execute_result"
    }
   ],
   "source": [
    "neighbors(\"ACG\", 1)"
   ]
  },
  {
   "cell_type": "markdown",
   "metadata": {},
   "source": [
    "# Week 3"
   ]
  },
  {
   "cell_type": "markdown",
   "metadata": {},
   "source": [
    "Which DNA Patterns Serve ad Molecular Clocks"
   ]
  },
  {
   "cell_type": "markdown",
   "metadata": {},
   "source": [
    "1.2 Motif Finding Is More Difficult Than You Think"
   ]
  },
  {
   "cell_type": "markdown",
   "metadata": {},
   "source": [
    "    MotifEnumeration(Dna, k, d)\n",
    "        Patterns ← an empty set\n",
    "        for each k-mer Pattern in the first string in Dna\n",
    "            for each k-mer Pattern’ differing from Pattern by at most d mismatches\n",
    "                if Pattern' appears in each string from Dna with at most d mismatches\n",
    "                    add Pattern' to Patterns\n",
    "        remove duplicates from Patterns\n",
    "        return Patterns"
   ]
  },
  {
   "cell_type": "markdown",
   "metadata": {},
   "source": [
    "Sample Input:\n",
    " - [\"ATTTGGC\", \"TGCCTTA\", \"CGGTATC\", \"GAAAATT\"], 3, 1\n",
    "\n",
    "Sample Output:\n",
    " - ATA ATT GTT TTT"
   ]
  },
  {
   "cell_type": "code",
   "execution_count": 19,
   "metadata": {},
   "outputs": [],
   "source": [
    "def motif_enumeration(dna, k, d):\n",
    "    \"\"\"\n",
    "    Implanted Motif Problem: Find all (k, d)-motifs in a collection of strings.\n",
    "\n",
    "    Input: A collection of strings Dna, and integers k and d.\n",
    "    Output: All (k, d)-motifs in Dna.\n",
    "    \"\"\"\n",
    "    #initialize an empty set so that no duplicates\n",
    "    patterns = set()\n",
    "    #iterate through each item in the dna list to get all k-mers\n",
    "    for text in dna:\n",
    "        for i in range(len(text) - k  + 1):\n",
    "            current_sequence = text[i:i+k]\n",
    "            \n",
    "            #iterate through each neighbor of all k-mers\n",
    "            sequence_neighbors = neighbors(current_sequence, d)\n",
    "            for sequence in sequence_neighbors:\n",
    "                \n",
    "                #a list that checks if each neighbor has approximate match to each item in the dna list\n",
    "                check_list = []\n",
    "                \n",
    "                #iterating each item in dna to check for approximate match with neighbor\n",
    "                for text1 in dna:\n",
    "                    #iterating through each k-mer in item to measure hamming distance\n",
    "                    for i1 in range(len(text1) - k + 1):\n",
    "                        current_sequence_1 = text1[i1: i1 + k]\n",
    "                        \n",
    "                        #if there's an approximate match, move onto the next item in dna\n",
    "                        if hamming_distance(current_sequence_1, sequence) <= d:\n",
    "                            check_list.append(True)\n",
    "                            break \n",
    "                            \n",
    "                #if there's an approximate match in every item, then we add the neighbor to the set\n",
    "                if sum(check_list) == len(dna):\n",
    "                    patterns.add(sequence)\n",
    "    return patterns\n"
   ]
  },
  {
   "cell_type": "code",
   "execution_count": 20,
   "metadata": {},
   "outputs": [
    {
     "data": {
      "text/plain": [
       "{'ATA', 'ATT', 'GTT', 'TTT'}"
      ]
     },
     "execution_count": 20,
     "metadata": {},
     "output_type": "execute_result"
    }
   ],
   "source": [
    "motif_enumeration([\"ATTTGGC\", \"TGCCTTA\", \"CGGTATC\", \"GAAAATT\"], 3, 1)"
   ]
  },
  {
   "cell_type": "code",
   "execution_count": null,
   "metadata": {},
   "outputs": [],
   "source": []
  }
 ],
 "metadata": {
  "kernelspec": {
   "display_name": "Python 3",
   "language": "python",
   "name": "python3"
  },
  "language_info": {
   "codemirror_mode": {
    "name": "ipython",
    "version": 3
   },
   "file_extension": ".py",
   "mimetype": "text/x-python",
   "name": "python",
   "nbconvert_exporter": "python",
   "pygments_lexer": "ipython3",
   "version": "3.7.0"
  }
 },
 "nbformat": 4,
 "nbformat_minor": 2
}
