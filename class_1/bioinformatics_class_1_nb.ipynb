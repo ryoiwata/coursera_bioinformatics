{
 "cells": [
  {
   "cell_type": "code",
   "execution_count": 5,
   "metadata": {},
   "outputs": [],
   "source": [
    "from src.bioinfo_class_1_functions import *"
   ]
  },
  {
   "cell_type": "markdown",
   "metadata": {},
   "source": [
    "Coursera Bioinformatics Course"
   ]
  },
  {
   "cell_type": "markdown",
   "metadata": {},
   "source": [
    "Class 1 Week 2 Where in the Genome Does Replication Begin?"
   ]
  },
  {
   "cell_type": "code",
   "execution_count": 9,
   "metadata": {},
   "outputs": [
    {
     "data": {
      "text/plain": [
       "2"
      ]
     },
     "execution_count": 9,
     "metadata": {},
     "output_type": "execute_result"
    }
   ],
   "source": [
    "pattern_count(\"ABCABC\", \"ABC\")"
   ]
  },
  {
   "cell_type": "markdown",
   "metadata": {},
   "source": [
    "1.4 Some Hidden Messages are More Elusive than Others"
   ]
  },
  {
   "cell_type": "markdown",
   "metadata": {},
   "source": [
    "Hamming Distance Problem: Compute the Hamming distance between two strings.\n",
    "\n",
    "- Input: Two strings of equal length.\n",
    "\n",
    "- Output: The Hamming distance between these strings."
   ]
  },
  {
   "cell_type": "markdown",
   "metadata": {},
   "source": [
    "Sample Input:\n",
    "\n",
    "GGGCCGTTGGT\n",
    "GGACCGTTGAC\n",
    "\n",
    "Sample Output:\n",
    "\n",
    "3"
   ]
  },
  {
   "cell_type": "code",
   "execution_count": 2,
   "metadata": {},
   "outputs": [
    {
     "data": {
      "text/plain": [
       "3"
      ]
     },
     "execution_count": 2,
     "metadata": {},
     "output_type": "execute_result"
    }
   ],
   "source": [
    "str1 = \"GGGCCGTTGGT\"\n",
    "str2 = \"GGACCGTTGAC\"\n",
    "hamming_distance(str1, str2)"
   ]
  },
  {
   "cell_type": "markdown",
   "metadata": {},
   "source": [
    "Approximate Pattern Matching Problem: Find all approximate occurrences of a pattern in a string.\n",
    "- Input: Strings Pattern and Text along with an integer d.\n",
    "- Output: All starting positions where Pattern appears as a substring of Text with at most d mismatches.\n",
    "\n",
    "Sample Input:\n",
    "\n",
    "ATTCTGGA\n",
    "CGCCCGAATCCAGAACGCATTCCCATATTTCGGGACCACTGGCCTCCACGGTACGGACGTCAATCAAAT\n",
    "3\n",
    "Sample Output:\n",
    "\n",
    "6 7 26 27"
   ]
  },
  {
   "cell_type": "code",
   "execution_count": 22,
   "metadata": {},
   "outputs": [
    {
     "data": {
      "text/plain": [
       "[6, 7, 26, 27]"
      ]
     },
     "execution_count": 22,
     "metadata": {},
     "output_type": "execute_result"
    }
   ],
   "source": [
    "appoximate_pattern_matching(\"ATTCTGGA\", \"CGCCCGAATCCAGAACGCATTCCCATATTTCGGGACCACTGGCCTCCACGGTACGGACGTCAATCAAAT\", 3)"
   ]
  },
  {
   "cell_type": "markdown",
   "metadata": {},
   "source": [
    "ApproximatePatternCount.\n",
    "- Input: Strings Text and Pattern as well as an integer d.\n",
    "- Output: Countd(Text, Pattern).\n",
    "\n",
    "Sample Input:\n",
    "\n",
    "GAGG\n",
    "TTTAGAGCCTTCAGAGG\n",
    "2\n",
    "\n",
    "Sample Output:\n",
    "4"
   ]
  },
  {
   "cell_type": "code",
   "execution_count": 27,
   "metadata": {},
   "outputs": [
    {
     "data": {
      "text/plain": [
       "4"
      ]
     },
     "execution_count": 27,
     "metadata": {},
     "output_type": "execute_result"
    }
   ],
   "source": [
    "approximate_pattern_count(\"GAGG\", \"TTTAGAGCCTTCAGAGG\", 2)"
   ]
  },
  {
   "cell_type": "code",
   "execution_count": null,
   "metadata": {},
   "outputs": [],
   "source": []
  }
 ],
 "metadata": {
  "kernelspec": {
   "display_name": "Python 3",
   "language": "python",
   "name": "python3"
  },
  "language_info": {
   "codemirror_mode": {
    "name": "ipython",
    "version": 3
   },
   "file_extension": ".py",
   "mimetype": "text/x-python",
   "name": "python",
   "nbconvert_exporter": "python",
   "pygments_lexer": "ipython3",
   "version": "3.7.0"
  }
 },
 "nbformat": 4,
 "nbformat_minor": 2
}
